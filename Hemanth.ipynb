{
  "cells": [
    {
      "cell_type": "markdown",
      "metadata": {
        "id": "YNiDRKwa8NMm"
      },
      "source": [
        "## Import Relevant Libraries"
      ]
    },
    {
      "cell_type": "code",
      "execution_count": 12,
      "metadata": {
        "id": "z9nUvJHd67GQ"
      },
      "outputs": [],
      "source": [
        "import json\n",
        "import pandas as pd\n",
        "import numpy as np\n",
        "import matplotlib.pyplot as plt\n",
        "import seaborn as sns\n",
        "import re\n",
        "from nltk.stem.snowball import SnowballStemmer\n",
        "import warnings\n",
        "from sklearn.model_selection import train_test_split"
      ]
    },
    {
      "cell_type": "markdown",
      "metadata": {
        "id": "9CildbIC3jCx"
      },
      "source": [
        "## Import Dataset\n",
        "The dataset can be found here: https://github.com/BestBuyAPIs/open-data-set"
      ]
    },
    {
      "cell_type": "markdown",
      "metadata": {
        "id": "9eZkgYBR-Srh"
      },
      "source": [
        "This dataset has stores, category and product data we we interested in product data. We are going to use name, description and multicatogory.\n",
        "\n",
        "So our goal is to process the name and description with an tensorflow embedder. Process unique categories list and one hot encode all categories."
      ]
    },
    {
      "cell_type": "code",
      "execution_count": 13,
      "metadata": {
        "id": "-TqIdVMw4siN"
      },
      "outputs": [],
      "source": [
        "f = open('sample.json')\n",
        "products_data = json.load(f) # returns JSON object as a dictionary"
      ]
    },
    {
      "cell_type": "code",
      "execution_count": 14,
      "metadata": {
        "id": "4HGixLcu78-n"
      },
      "outputs": [],
      "source": [
        "column_names = ['name', 'description', 'category']\n",
        "\n",
        "# Create the DataFrame\n",
        "df = pd.DataFrame(products_data, columns=column_names)\n",
        "\n",
        "names,descriptions,categories = [],[],[]\n",
        "for product in products_data:\n",
        "  names.append(product['name'])\n",
        "  descriptions.append(product['description'])\n",
        "  productCategories = []\n",
        "  for cat in product['category']:\n",
        "\n",
        "    productCategories.append(cat['name'])\n",
        "  categories.append(productCategories)"
      ]
    },
    {
      "cell_type": "code",
      "execution_count": 15,
      "metadata": {
        "colab": {
          "base_uri": "https://localhost:8080/",
          "height": 206
        },
        "id": "_sDp0YSc8q1_",
        "outputId": "e5218e55-1576-45a0-e638-b2c38968e5f5"
      },
      "outputs": [
        {
          "data": {
            "text/html": [
              "<div>\n",
              "<style scoped>\n",
              "    .dataframe tbody tr th:only-of-type {\n",
              "        vertical-align: middle;\n",
              "    }\n",
              "\n",
              "    .dataframe tbody tr th {\n",
              "        vertical-align: top;\n",
              "    }\n",
              "\n",
              "    .dataframe thead th {\n",
              "        text-align: right;\n",
              "    }\n",
              "</style>\n",
              "<table border=\"1\" class=\"dataframe\">\n",
              "  <thead>\n",
              "    <tr style=\"text-align: right;\">\n",
              "      <th></th>\n",
              "      <th>name</th>\n",
              "      <th>description</th>\n",
              "      <th>category</th>\n",
              "    </tr>\n",
              "  </thead>\n",
              "  <tbody>\n",
              "    <tr>\n",
              "      <th>0</th>\n",
              "      <td>Duracell - AAA Batteries (4-Pack)</td>\n",
              "      <td>Compatible with select electronic devices; AAA...</td>\n",
              "      <td>[Connected Home &amp; Housewares, Housewares, Hous...</td>\n",
              "    </tr>\n",
              "    <tr>\n",
              "      <th>1</th>\n",
              "      <td>Duracell - AA 1.5V CopperTop Batteries (4-Pack)</td>\n",
              "      <td>Long-lasting energy; DURALOCK Power Preserve t...</td>\n",
              "      <td>[Connected Home &amp; Housewares, Housewares, Hous...</td>\n",
              "    </tr>\n",
              "    <tr>\n",
              "      <th>2</th>\n",
              "      <td>Duracell - AA Batteries (8-Pack)</td>\n",
              "      <td>Compatible with select electronic devices; AA ...</td>\n",
              "      <td>[Connected Home &amp; Housewares, Housewares, Hous...</td>\n",
              "    </tr>\n",
              "    <tr>\n",
              "      <th>3</th>\n",
              "      <td>Energizer - MAX Batteries AA (4-Pack)</td>\n",
              "      <td>4-pack AA alkaline batteries; battery tester i...</td>\n",
              "      <td>[Connected Home &amp; Housewares, Housewares, Hous...</td>\n",
              "    </tr>\n",
              "    <tr>\n",
              "      <th>4</th>\n",
              "      <td>Duracell - C Batteries (4-Pack)</td>\n",
              "      <td>Compatible with select electronic devices; C s...</td>\n",
              "      <td>[Connected Home &amp; Housewares, Housewares, Hous...</td>\n",
              "    </tr>\n",
              "  </tbody>\n",
              "</table>\n",
              "</div>"
            ],
            "text/plain": [
              "                                              name  \\\n",
              "0                Duracell - AAA Batteries (4-Pack)   \n",
              "1  Duracell - AA 1.5V CopperTop Batteries (4-Pack)   \n",
              "2                 Duracell - AA Batteries (8-Pack)   \n",
              "3            Energizer - MAX Batteries AA (4-Pack)   \n",
              "4                  Duracell - C Batteries (4-Pack)   \n",
              "\n",
              "                                         description  \\\n",
              "0  Compatible with select electronic devices; AAA...   \n",
              "1  Long-lasting energy; DURALOCK Power Preserve t...   \n",
              "2  Compatible with select electronic devices; AA ...   \n",
              "3  4-pack AA alkaline batteries; battery tester i...   \n",
              "4  Compatible with select electronic devices; C s...   \n",
              "\n",
              "                                            category  \n",
              "0  [Connected Home & Housewares, Housewares, Hous...  \n",
              "1  [Connected Home & Housewares, Housewares, Hous...  \n",
              "2  [Connected Home & Housewares, Housewares, Hous...  \n",
              "3  [Connected Home & Housewares, Housewares, Hous...  \n",
              "4  [Connected Home & Housewares, Housewares, Hous...  "
            ]
          },
          "execution_count": 15,
          "metadata": {},
          "output_type": "execute_result"
        }
      ],
      "source": [
        "df = pd.DataFrame(list(zip(names,descriptions,categories)) ,columns = column_names)\n",
        "df.head()"
      ]
    },
    {
      "cell_type": "markdown",
      "metadata": {
        "id": "Y-W7eAYjAKfo"
      },
      "source": [
        "There are a total of **5000** products(sampled from main dataset) listed in the product.json file.\n",
        "As each instanse can belong to multiple categories, so these types of problems are known as **multi-label classification problem**, where we have a set of target labels.\n",
        "If there are multiple categories but each instance is assigned only one, therefore such problems are known as **multi-class classification problem**.\n",
        "\n",
        "Multi-class problem acknowledge that all the classes are mutually exclusive, but in our case it is not as a product can belong to multiple classes/categories."
      ]
    },
    {
      "cell_type": "markdown",
      "metadata": {},
      "source": [
        "## Processing Data\n"
      ]
    },
    {
      "cell_type": "code",
      "execution_count": 16,
      "metadata": {
        "colab": {
          "base_uri": "https://localhost:8080/",
          "height": 206
        },
        "id": "D32F-7HHA8Ke",
        "outputId": "9c09eb04-ee91-4b60-f82d-fffbc7349ba3"
      },
      "outputs": [
        {
          "data": {
            "text/html": [
              "<div>\n",
              "<style scoped>\n",
              "    .dataframe tbody tr th:only-of-type {\n",
              "        vertical-align: middle;\n",
              "    }\n",
              "\n",
              "    .dataframe tbody tr th {\n",
              "        vertical-align: top;\n",
              "    }\n",
              "\n",
              "    .dataframe thead th {\n",
              "        text-align: right;\n",
              "    }\n",
              "</style>\n",
              "<table border=\"1\" class=\"dataframe\">\n",
              "  <thead>\n",
              "    <tr style=\"text-align: right;\">\n",
              "      <th></th>\n",
              "      <th>0</th>\n",
              "      <th>1</th>\n",
              "      <th>2</th>\n",
              "      <th>3</th>\n",
              "      <th>4</th>\n",
              "      <th>5</th>\n",
              "      <th>6</th>\n",
              "    </tr>\n",
              "  </thead>\n",
              "  <tbody>\n",
              "    <tr>\n",
              "      <th>0</th>\n",
              "      <td>Connected Home &amp; Housewares</td>\n",
              "      <td>Housewares</td>\n",
              "      <td>Household Batteries</td>\n",
              "      <td>Alkaline Batteries</td>\n",
              "      <td>None</td>\n",
              "      <td>None</td>\n",
              "      <td>None</td>\n",
              "    </tr>\n",
              "    <tr>\n",
              "      <th>1</th>\n",
              "      <td>Connected Home &amp; Housewares</td>\n",
              "      <td>Housewares</td>\n",
              "      <td>Household Batteries</td>\n",
              "      <td>Alkaline Batteries</td>\n",
              "      <td>None</td>\n",
              "      <td>None</td>\n",
              "      <td>None</td>\n",
              "    </tr>\n",
              "    <tr>\n",
              "      <th>2</th>\n",
              "      <td>Connected Home &amp; Housewares</td>\n",
              "      <td>Housewares</td>\n",
              "      <td>Household Batteries</td>\n",
              "      <td>Alkaline Batteries</td>\n",
              "      <td>None</td>\n",
              "      <td>None</td>\n",
              "      <td>None</td>\n",
              "    </tr>\n",
              "    <tr>\n",
              "      <th>3</th>\n",
              "      <td>Connected Home &amp; Housewares</td>\n",
              "      <td>Housewares</td>\n",
              "      <td>Household Batteries</td>\n",
              "      <td>Alkaline Batteries</td>\n",
              "      <td>None</td>\n",
              "      <td>None</td>\n",
              "      <td>None</td>\n",
              "    </tr>\n",
              "    <tr>\n",
              "      <th>4</th>\n",
              "      <td>Connected Home &amp; Housewares</td>\n",
              "      <td>Housewares</td>\n",
              "      <td>Household Batteries</td>\n",
              "      <td>Alkaline Batteries</td>\n",
              "      <td>None</td>\n",
              "      <td>None</td>\n",
              "      <td>None</td>\n",
              "    </tr>\n",
              "  </tbody>\n",
              "</table>\n",
              "</div>"
            ],
            "text/plain": [
              "                             0           1                    2  \\\n",
              "0  Connected Home & Housewares  Housewares  Household Batteries   \n",
              "1  Connected Home & Housewares  Housewares  Household Batteries   \n",
              "2  Connected Home & Housewares  Housewares  Household Batteries   \n",
              "3  Connected Home & Housewares  Housewares  Household Batteries   \n",
              "4  Connected Home & Housewares  Housewares  Household Batteries   \n",
              "\n",
              "                    3     4     5     6  \n",
              "0  Alkaline Batteries  None  None  None  \n",
              "1  Alkaline Batteries  None  None  None  \n",
              "2  Alkaline Batteries  None  None  None  \n",
              "3  Alkaline Batteries  None  None  None  \n",
              "4  Alkaline Batteries  None  None  None  "
            ]
          },
          "execution_count": 16,
          "metadata": {},
          "output_type": "execute_result"
        }
      ],
      "source": [
        "cat = pd.DataFrame(df['category'].to_list()) # listing the categories seperately\n",
        "cat.head()"
      ]
    },
    {
      "cell_type": "code",
      "execution_count": 17,
      "metadata": {
        "colab": {
          "base_uri": "https://localhost:8080/"
        },
        "id": "ev4hUl5aBK8G",
        "outputId": "e337664e-e3f2-4e63-82f5-b0be9f06a840"
      },
      "outputs": [
        {
          "data": {
            "text/plain": [
              "908"
            ]
          },
          "execution_count": 17,
          "metadata": {},
          "output_type": "execute_result"
        }
      ],
      "source": [
        "# finding total unique categories/classes from which our prediction will belong too\n",
        "category_0 = cat[0].unique()\n",
        "category_1 = cat[1].unique()\n",
        "category_2 = cat[2].unique()\n",
        "category_3 = cat[3].unique()\n",
        "category_4 = cat[4].unique()\n",
        "category_5 = cat[5].unique()\n",
        "category_6 = cat[6].unique()\n",
        "cates = np.concatenate([category_0, category_1, category_2,category_3,category_4,category_5,category_6])\n",
        "cates = list(dict.fromkeys(cates))\n",
        "cates = [x for x in cates if x is not None] # remove None\n",
        "len(cates) # number of unique classes/categories\n"
      ]
    },
    {
      "cell_type": "markdown",
      "metadata": {
        "id": "HxdpEdridVbU"
      },
      "source": [
        "Since we have 908 unique categories it is better to get most occuring products. Lets see how many products each category has.(Note original dataset have 50000+ products but i sampled it for assignment)."
      ]
    },
    {
      "cell_type": "code",
      "execution_count": 18,
      "metadata": {
        "colab": {
          "base_uri": "https://localhost:8080/",
          "height": 481
        },
        "id": "YPf0Zq8vD5E1",
        "outputId": "9461f1c2-4cff-4ab1-ff73-a2e7a99bb612"
      },
      "outputs": [
        {
          "name": "stderr",
          "output_type": "stream",
          "text": [
            "C:\\Users\\HEMANTHKUMAR\\AppData\\Local\\Temp\\ipykernel_16720\\1425482351.py:2: FutureWarning: Downcasting object dtype arrays on .fillna, .ffill, .bfill is deprecated and will change in a future version. Call result.infer_objects(copy=False) instead. To opt-in to the future behavior, set `pd.set_option('future.no_silent_downcasting', True)`\n",
            "  cat.fillna(0, inplace = True) # fill with zero\n"
          ]
        }
      ],
      "source": [
        "cat = pd.concat([cat,pd.DataFrame(columns = list(cates))]) # concatnate categories/classes to original dataframe\n",
        "cat.fillna(0, inplace = True) # fill with zero\n",
        "#cat.head()"
      ]
    },
    {
      "cell_type": "code",
      "execution_count": 19,
      "metadata": {
        "id": "Xvs-ChH2EddF"
      },
      "outputs": [],
      "source": [
        "# filling attendence for all the categories/classes\n",
        "for i in range(7):\n",
        "  for row in range(len(cat)):\n",
        "    x =cat.iloc[row,i]\n",
        "    if(pd.notna(x) and x!=0 ):\n",
        "      #print(cat.loc[row,x])\n",
        "      cat.loc[row,x]=1;\n",
        "      #print(x)"
      ]
    },
    {
      "cell_type": "code",
      "execution_count": 20,
      "metadata": {
        "colab": {
          "base_uri": "https://localhost:8080/",
          "height": 481
        },
        "id": "pAaklS7zFyo1",
        "outputId": "768bfa67-4ae8-42ee-b663-62b6976c157d"
      },
      "outputs": [
        {
          "data": {
            "text/html": [
              "<div>\n",
              "<style scoped>\n",
              "    .dataframe tbody tr th:only-of-type {\n",
              "        vertical-align: middle;\n",
              "    }\n",
              "\n",
              "    .dataframe tbody tr th {\n",
              "        vertical-align: top;\n",
              "    }\n",
              "\n",
              "    .dataframe thead th {\n",
              "        text-align: right;\n",
              "    }\n",
              "</style>\n",
              "<table border=\"1\" class=\"dataframe\">\n",
              "  <thead>\n",
              "    <tr style=\"text-align: right;\">\n",
              "      <th></th>\n",
              "      <th>0</th>\n",
              "      <th>1</th>\n",
              "      <th>2</th>\n",
              "      <th>3</th>\n",
              "      <th>4</th>\n",
              "      <th>5</th>\n",
              "      <th>6</th>\n",
              "      <th>Connected Home &amp; Housewares</th>\n",
              "      <th>Carfi Instore Only</th>\n",
              "      <th>Car Electronics &amp; GPS</th>\n",
              "      <th>...</th>\n",
              "      <th>Citrus Juicers</th>\n",
              "      <th>Percolators</th>\n",
              "      <th>Ottomans</th>\n",
              "      <th>Action Camcorder Batteries</th>\n",
              "      <th>All-In-One Laser Printers</th>\n",
              "      <th>Connectors</th>\n",
              "      <th>Color Laser Printers</th>\n",
              "      <th>Color Inkjet Printers</th>\n",
              "      <th>Black &amp; White Laser Printers</th>\n",
              "      <th>Color All-in-one Printers</th>\n",
              "    </tr>\n",
              "  </thead>\n",
              "  <tbody>\n",
              "    <tr>\n",
              "      <th>0</th>\n",
              "      <td>Connected Home &amp; Housewares</td>\n",
              "      <td>Housewares</td>\n",
              "      <td>Household Batteries</td>\n",
              "      <td>Alkaline Batteries</td>\n",
              "      <td>0</td>\n",
              "      <td>0</td>\n",
              "      <td>0</td>\n",
              "      <td>1</td>\n",
              "      <td>0</td>\n",
              "      <td>0</td>\n",
              "      <td>...</td>\n",
              "      <td>0</td>\n",
              "      <td>0</td>\n",
              "      <td>0</td>\n",
              "      <td>0</td>\n",
              "      <td>0</td>\n",
              "      <td>0</td>\n",
              "      <td>0</td>\n",
              "      <td>0</td>\n",
              "      <td>0</td>\n",
              "      <td>0</td>\n",
              "    </tr>\n",
              "    <tr>\n",
              "      <th>1</th>\n",
              "      <td>Connected Home &amp; Housewares</td>\n",
              "      <td>Housewares</td>\n",
              "      <td>Household Batteries</td>\n",
              "      <td>Alkaline Batteries</td>\n",
              "      <td>0</td>\n",
              "      <td>0</td>\n",
              "      <td>0</td>\n",
              "      <td>1</td>\n",
              "      <td>0</td>\n",
              "      <td>0</td>\n",
              "      <td>...</td>\n",
              "      <td>0</td>\n",
              "      <td>0</td>\n",
              "      <td>0</td>\n",
              "      <td>0</td>\n",
              "      <td>0</td>\n",
              "      <td>0</td>\n",
              "      <td>0</td>\n",
              "      <td>0</td>\n",
              "      <td>0</td>\n",
              "      <td>0</td>\n",
              "    </tr>\n",
              "    <tr>\n",
              "      <th>2</th>\n",
              "      <td>Connected Home &amp; Housewares</td>\n",
              "      <td>Housewares</td>\n",
              "      <td>Household Batteries</td>\n",
              "      <td>Alkaline Batteries</td>\n",
              "      <td>0</td>\n",
              "      <td>0</td>\n",
              "      <td>0</td>\n",
              "      <td>1</td>\n",
              "      <td>0</td>\n",
              "      <td>0</td>\n",
              "      <td>...</td>\n",
              "      <td>0</td>\n",
              "      <td>0</td>\n",
              "      <td>0</td>\n",
              "      <td>0</td>\n",
              "      <td>0</td>\n",
              "      <td>0</td>\n",
              "      <td>0</td>\n",
              "      <td>0</td>\n",
              "      <td>0</td>\n",
              "      <td>0</td>\n",
              "    </tr>\n",
              "    <tr>\n",
              "      <th>3</th>\n",
              "      <td>Connected Home &amp; Housewares</td>\n",
              "      <td>Housewares</td>\n",
              "      <td>Household Batteries</td>\n",
              "      <td>Alkaline Batteries</td>\n",
              "      <td>0</td>\n",
              "      <td>0</td>\n",
              "      <td>0</td>\n",
              "      <td>1</td>\n",
              "      <td>0</td>\n",
              "      <td>0</td>\n",
              "      <td>...</td>\n",
              "      <td>0</td>\n",
              "      <td>0</td>\n",
              "      <td>0</td>\n",
              "      <td>0</td>\n",
              "      <td>0</td>\n",
              "      <td>0</td>\n",
              "      <td>0</td>\n",
              "      <td>0</td>\n",
              "      <td>0</td>\n",
              "      <td>0</td>\n",
              "    </tr>\n",
              "    <tr>\n",
              "      <th>4</th>\n",
              "      <td>Connected Home &amp; Housewares</td>\n",
              "      <td>Housewares</td>\n",
              "      <td>Household Batteries</td>\n",
              "      <td>Alkaline Batteries</td>\n",
              "      <td>0</td>\n",
              "      <td>0</td>\n",
              "      <td>0</td>\n",
              "      <td>1</td>\n",
              "      <td>0</td>\n",
              "      <td>0</td>\n",
              "      <td>...</td>\n",
              "      <td>0</td>\n",
              "      <td>0</td>\n",
              "      <td>0</td>\n",
              "      <td>0</td>\n",
              "      <td>0</td>\n",
              "      <td>0</td>\n",
              "      <td>0</td>\n",
              "      <td>0</td>\n",
              "      <td>0</td>\n",
              "      <td>0</td>\n",
              "    </tr>\n",
              "  </tbody>\n",
              "</table>\n",
              "<p>5 rows × 915 columns</p>\n",
              "</div>"
            ],
            "text/plain": [
              "                             0           1                    2  \\\n",
              "0  Connected Home & Housewares  Housewares  Household Batteries   \n",
              "1  Connected Home & Housewares  Housewares  Household Batteries   \n",
              "2  Connected Home & Housewares  Housewares  Household Batteries   \n",
              "3  Connected Home & Housewares  Housewares  Household Batteries   \n",
              "4  Connected Home & Housewares  Housewares  Household Batteries   \n",
              "\n",
              "                    3  4  5  6  Connected Home & Housewares  \\\n",
              "0  Alkaline Batteries  0  0  0                            1   \n",
              "1  Alkaline Batteries  0  0  0                            1   \n",
              "2  Alkaline Batteries  0  0  0                            1   \n",
              "3  Alkaline Batteries  0  0  0                            1   \n",
              "4  Alkaline Batteries  0  0  0                            1   \n",
              "\n",
              "   Carfi Instore Only  Car Electronics & GPS  ...  Citrus Juicers  \\\n",
              "0                   0                      0  ...               0   \n",
              "1                   0                      0  ...               0   \n",
              "2                   0                      0  ...               0   \n",
              "3                   0                      0  ...               0   \n",
              "4                   0                      0  ...               0   \n",
              "\n",
              "   Percolators  Ottomans  Action Camcorder Batteries  \\\n",
              "0            0         0                           0   \n",
              "1            0         0                           0   \n",
              "2            0         0                           0   \n",
              "3            0         0                           0   \n",
              "4            0         0                           0   \n",
              "\n",
              "   All-In-One Laser Printers  Connectors  Color Laser Printers  \\\n",
              "0                          0           0                     0   \n",
              "1                          0           0                     0   \n",
              "2                          0           0                     0   \n",
              "3                          0           0                     0   \n",
              "4                          0           0                     0   \n",
              "\n",
              "   Color Inkjet Printers  Black & White Laser Printers  \\\n",
              "0                      0                             0   \n",
              "1                      0                             0   \n",
              "2                      0                             0   \n",
              "3                      0                             0   \n",
              "4                      0                             0   \n",
              "\n",
              "   Color All-in-one Printers  \n",
              "0                          0  \n",
              "1                          0  \n",
              "2                          0  \n",
              "3                          0  \n",
              "4                          0  \n",
              "\n",
              "[5 rows x 915 columns]"
            ]
          },
          "execution_count": 20,
          "metadata": {},
          "output_type": "execute_result"
        }
      ],
      "source": [
        "cat.head()"
      ]
    },
    {
      "cell_type": "code",
      "execution_count": 21,
      "metadata": {
        "colab": {
          "base_uri": "https://localhost:8080/",
          "height": 654
        },
        "id": "mnUPvx4MIWm4",
        "outputId": "004d33fa-3c8e-495e-d0bf-291bc144aa0b"
      },
      "outputs": [],
      "source": [
        "df21 = pd.concat([df['name'],df['description'],cat.iloc[:,7:]],axis=1) # creating new dataframe which contains name of product,description and categories it belong to\n",
        "df2= df21.fillna(0)"
      ]
    },
    {
      "cell_type": "markdown",
      "metadata": {
        "id": "jOBk-iNSCchf"
      },
      "source": [
        "There are **5000** product with **908** classes/category."
      ]
    },
    {
      "cell_type": "markdown",
      "metadata": {
        "id": "Ex-Z37szCnSY"
      },
      "source": [
        "## Data Analysis"
      ]
    },
    {
      "cell_type": "markdown",
      "metadata": {
        "id": "yXRZZ_RFCrFO"
      },
      "source": [
        "Count of occurance of each category, to check most frequently occuring categories."
      ]
    },
    {
      "cell_type": "code",
      "execution_count": 22,
      "metadata": {
        "colab": {
          "base_uri": "https://localhost:8080/",
          "height": 423
        },
        "id": "G4iQqrDeJocl",
        "outputId": "84e0459f-eaa2-4154-8645-6d6ff29de82e"
      },
      "outputs": [
        {
          "data": {
            "text/html": [
              "<div>\n",
              "<style scoped>\n",
              "    .dataframe tbody tr th:only-of-type {\n",
              "        vertical-align: middle;\n",
              "    }\n",
              "\n",
              "    .dataframe tbody tr th {\n",
              "        vertical-align: top;\n",
              "    }\n",
              "\n",
              "    .dataframe thead th {\n",
              "        text-align: right;\n",
              "    }\n",
              "</style>\n",
              "<table border=\"1\" class=\"dataframe\">\n",
              "  <thead>\n",
              "    <tr style=\"text-align: right;\">\n",
              "      <th></th>\n",
              "      <th>category</th>\n",
              "      <th>count</th>\n",
              "    </tr>\n",
              "  </thead>\n",
              "  <tbody>\n",
              "    <tr>\n",
              "      <th>0</th>\n",
              "      <td>Video Games</td>\n",
              "      <td>1066</td>\n",
              "    </tr>\n",
              "    <tr>\n",
              "      <th>1</th>\n",
              "      <td>Pre-Owned Games</td>\n",
              "      <td>899</td>\n",
              "    </tr>\n",
              "    <tr>\n",
              "      <th>2</th>\n",
              "      <td>Appliances</td>\n",
              "      <td>850</td>\n",
              "    </tr>\n",
              "    <tr>\n",
              "      <th>3</th>\n",
              "      <td>Musical Instruments</td>\n",
              "      <td>497</td>\n",
              "    </tr>\n",
              "    <tr>\n",
              "      <th>4</th>\n",
              "      <td>Computers &amp; Tablets</td>\n",
              "      <td>451</td>\n",
              "    </tr>\n",
              "    <tr>\n",
              "      <th>...</th>\n",
              "      <td>...</td>\n",
              "      <td>...</td>\n",
              "    </tr>\n",
              "    <tr>\n",
              "      <th>95</th>\n",
              "      <td>DJ Lighting &amp; Effects</td>\n",
              "      <td>29</td>\n",
              "    </tr>\n",
              "    <tr>\n",
              "      <th>96</th>\n",
              "      <td>Blenders</td>\n",
              "      <td>29</td>\n",
              "    </tr>\n",
              "    <tr>\n",
              "      <th>97</th>\n",
              "      <td>All Microwaves</td>\n",
              "      <td>29</td>\n",
              "    </tr>\n",
              "    <tr>\n",
              "      <th>98</th>\n",
              "      <td>Camera Bags &amp; Cases</td>\n",
              "      <td>29</td>\n",
              "    </tr>\n",
              "    <tr>\n",
              "      <th>99</th>\n",
              "      <td>Microwaves</td>\n",
              "      <td>29</td>\n",
              "    </tr>\n",
              "  </tbody>\n",
              "</table>\n",
              "<p>100 rows × 2 columns</p>\n",
              "</div>"
            ],
            "text/plain": [
              "                 category  count\n",
              "0             Video Games   1066\n",
              "1         Pre-Owned Games    899\n",
              "2              Appliances    850\n",
              "3     Musical Instruments    497\n",
              "4     Computers & Tablets    451\n",
              "..                    ...    ...\n",
              "95  DJ Lighting & Effects     29\n",
              "96               Blenders     29\n",
              "97         All Microwaves     29\n",
              "98    Camera Bags & Cases     29\n",
              "99             Microwaves     29\n",
              "\n",
              "[100 rows x 2 columns]"
            ]
          },
          "execution_count": 22,
          "metadata": {},
          "output_type": "execute_result"
        }
      ],
      "source": [
        "bar_plot = pd.DataFrame()\n",
        "bar_plot['category'] = df2.columns[2:] # column name, which are categories\n",
        "bar_plot['count'] = df2.iloc[:,2:].sum().values\n",
        "bar_plot.sort_values(['count'], inplace=True, ascending=False)\n",
        "bar_plot.reset_index(inplace=True, drop=True)\n",
        "bar_plot.head(100) # Top 5 most occuring categories"
      ]
    },
    {
      "cell_type": "markdown",
      "metadata": {
        "id": "QKwa5JJPB629"
      },
      "source": [
        "We put a threshold to cut down number of unique categories to avoid unwanted computation and also it would not be beneficial for modelling. after carefull analysis setting a threshold of 20 gives us unique catagories as 138."
      ]
    },
    {
      "cell_type": "code",
      "execution_count": 23,
      "metadata": {
        "id": "kIJ9bqegMYma"
      },
      "outputs": [],
      "source": [
        "threshold = 20 # taking a lower threshold so can include higher number of classes/categories in consideration, can change this to even lower if want more classes\n",
        "\n",
        "warnings.filterwarnings('ignore')\n",
        "\n",
        "main_categories = pd.DataFrame()\n",
        "main_categories = bar_plot[bar_plot['count']>threshold]\n",
        "categories = main_categories['category'].values\n",
        "categories = np.append(categories,'Others')\n",
        "not_category = []\n",
        "df2['Others'] = 0\n",
        "\n",
        "for i in df2.columns[2:]:\n",
        "    if i not in categories:\n",
        "        df2['Others'][df2[i] == 1] = 1\n",
        "        not_category.append(i)\n",
        "\n",
        "df2.drop(not_category, axis=1, inplace=True)"
      ]
    },
    {
      "cell_type": "code",
      "execution_count": 24,
      "metadata": {
        "colab": {
          "base_uri": "https://localhost:8080/"
        },
        "id": "CdZ-SUp9Ov7q",
        "outputId": "c975244a-9a5f-4b62-d72f-726a00843fdf"
      },
      "outputs": [
        {
          "data": {
            "text/plain": [
              "(5000, 138)"
            ]
          },
          "execution_count": 24,
          "metadata": {},
          "output_type": "execute_result"
        }
      ],
      "source": [
        "df2.shape"
      ]
    },
    {
      "cell_type": "markdown",
      "metadata": {},
      "source": [
        "## Lets do some Exploratory Data Analysis"
      ]
    },
    {
      "cell_type": "code",
      "execution_count": 26,
      "metadata": {
        "colab": {
          "base_uri": "https://localhost:8080/",
          "height": 206
        },
        "id": "a9a9DKY0O7e0",
        "outputId": "5320ae98-4998-4bc1-f03c-7984377db859"
      },
      "outputs": [
        {
          "data": {
            "text/html": [
              "<div>\n",
              "<style scoped>\n",
              "    .dataframe tbody tr th:only-of-type {\n",
              "        vertical-align: middle;\n",
              "    }\n",
              "\n",
              "    .dataframe tbody tr th {\n",
              "        vertical-align: top;\n",
              "    }\n",
              "\n",
              "    .dataframe thead th {\n",
              "        text-align: right;\n",
              "    }\n",
              "</style>\n",
              "<table border=\"1\" class=\"dataframe\">\n",
              "  <thead>\n",
              "    <tr style=\"text-align: right;\">\n",
              "      <th></th>\n",
              "      <th>category</th>\n",
              "      <th>count</th>\n",
              "    </tr>\n",
              "  </thead>\n",
              "  <tbody>\n",
              "    <tr>\n",
              "      <th>0</th>\n",
              "      <td>Others</td>\n",
              "      <td>2232</td>\n",
              "    </tr>\n",
              "    <tr>\n",
              "      <th>1</th>\n",
              "      <td>Video Games</td>\n",
              "      <td>1066</td>\n",
              "    </tr>\n",
              "    <tr>\n",
              "      <th>2</th>\n",
              "      <td>Pre-Owned Games</td>\n",
              "      <td>899</td>\n",
              "    </tr>\n",
              "    <tr>\n",
              "      <th>3</th>\n",
              "      <td>Appliances</td>\n",
              "      <td>850</td>\n",
              "    </tr>\n",
              "    <tr>\n",
              "      <th>4</th>\n",
              "      <td>Musical Instruments</td>\n",
              "      <td>497</td>\n",
              "    </tr>\n",
              "  </tbody>\n",
              "</table>\n",
              "</div>"
            ],
            "text/plain": [
              "              category  count\n",
              "0               Others   2232\n",
              "1          Video Games   1066\n",
              "2      Pre-Owned Games    899\n",
              "3           Appliances    850\n",
              "4  Musical Instruments    497"
            ]
          },
          "execution_count": 26,
          "metadata": {},
          "output_type": "execute_result"
        }
      ],
      "source": [
        "most_common_cat = pd.DataFrame()\n",
        "most_common_cat['category'] = df2.columns[2:]\n",
        "most_common_cat['count'] = df2.iloc[:,2:].sum().values\n",
        "most_common_cat.sort_values(['count'], inplace=True, ascending=False)\n",
        "most_common_cat.reset_index(inplace=True, drop=True)\n",
        "most_common_cat.head()"
      ]
    },
    {
      "cell_type": "markdown",
      "metadata": {},
      "source": [
        "Even with lower threshold we have others as top category. if we use origianal dataset with 50000+ products we may find more useful insights"
      ]
    },
    {
      "cell_type": "code",
      "execution_count": 28,
      "metadata": {
        "colab": {
          "base_uri": "https://localhost:8080/",
          "height": 748
        },
        "id": "90LGKkfHPONt",
        "outputId": "65059c67-346c-4526-ce3e-41042e203ad7"
      },
      "outputs": [
        {
          "data": {
            "image/png": "[encoded data removed]",
            "text/plain": [
              "<Figure size 1500x800 with 1 Axes>"
            ]
          },
          "metadata": {},
          "output_type": "display_data"
        }
      ],
      "source": [
        "import matplotlib.pyplot as plt\n",
        "import seaborn as sns\n",
        "import numpy as np\n",
        "import pandas as pd\n",
        "\n",
        "# Example data for demonstration (replace this with your actual 'bar_plot' DataFrame)\n",
        "data = {\n",
        "    'category': [f'Category{i}' for i in range(1, 101)],\n",
        "    'count': np.random.randint(1, 100, size=100)\n",
        "}\n",
        "bar_plot = pd.DataFrame(data)\n",
        "bar_plot = bar_plot.sort_values(by='count', ascending=False)\n",
        "\n",
        "# Set threshold\n",
        "threshold = 20\n",
        "\n",
        "# Plotting\n",
        "plt.figure(figsize=(15, 8))\n",
        "sns.set(font_scale=1.5)\n",
        "sns.set_style('whitegrid')\n",
        "\n",
        "# Define the color palette and rank for coloring\n",
        "pal = sns.color_palette(\"Blues_r\", len(bar_plot))\n",
        "rank = bar_plot['count'].argsort().argsort()\n",
        "\n",
        "# Plotting the bar plot\n",
        "sns.barplot(x=bar_plot['category'][:60], y=bar_plot['count'][:60], palette=np.array(pal[::-1])[rank][:60])\n",
        "plt.axhline(threshold, ls='--', c='red')\n",
        "plt.title(\"Most Common Categories\", fontsize=24)\n",
        "plt.ylabel('Counts', fontsize=18)\n",
        "plt.xlabel('Category', fontsize=14)\n",
        "plt.xticks(rotation='vertical')\n",
        "# Uncomment the following line if you want to hide x-axis labels\n",
        "# plt.xticks(color='w')\n",
        "\n",
        "# Show plot\n",
        "plt.show()\n"
      ]
    },
    {
      "cell_type": "markdown",
      "metadata": {},
      "source": [
        "Now lets see the distribution of products along the number of categories they belongs to. for example product 1 may belong to 3 categories and product 10 may belong to just 1. Lets cumulate and see what this tells us!!"
      ]
    },
    {
      "cell_type": "code",
      "execution_count": 33,
      "metadata": {
        "id": "JFdxNNZPR2b6"
      },
      "outputs": [],
      "source": [
        "rowSums = df2.iloc[:,2:].sum(axis=1)\n",
        "multiLabel_counts = rowSums.value_counts()\n"
      ]
    },
    {
      "cell_type": "code",
      "execution_count": 30,
      "metadata": {
        "colab": {
          "base_uri": "https://localhost:8080/",
          "height": 599
        },
        "id": "hV3L3HDGR__h",
        "outputId": "c8ab2a7f-39ce-44ef-b9af-bd9313830b17"
      },
      "outputs": [
        {
          "data": {
            "image/png": "[encoded data removed]",
            "text/plain": [
              "<Figure size 1000x600 with 1 Axes>"
            ]
          },
          "metadata": {},
          "output_type": "display_data"
        }
      ],
      "source": [
        "# Assuming multiLabel_counts is a pandas Series with indices as categories and values as counts\n",
        "\n",
        "# Set the aesthetics\n",
        "sns.set(font_scale=1.5)\n",
        "sns.set_style('whitegrid')\n",
        "\n",
        "# Initialize the figure\n",
        "plt.figure(figsize=(10, 6))\n",
        "\n",
        "# Plot the barplot with correct keyword arguments\n",
        "sns.barplot(x=multiLabel_counts.index, y=multiLabel_counts.values)\n",
        "\n",
        "# Set plot title and labels\n",
        "plt.title(\"Number of categories per product\", fontsize=24)\n",
        "plt.ylabel('Number of Products', fontsize=18)\n",
        "plt.xlabel('Number of Categories', fontsize=18)\n",
        "\n",
        "# Show the plot\n",
        "plt.show()\n"
      ]
    },
    {
      "cell_type": "markdown",
      "metadata": {},
      "source": [
        "Most products belong to 3 categories and almost all products have atleast 2 categories"
      ]
    },
    {
      "cell_type": "code",
      "execution_count": 34,
      "metadata": {
        "id": "OMar1ARJSXnZ"
      },
      "outputs": [],
      "source": [
        "boxplot = df2.copy()\n",
        "boxplot['len'] = df2.description.apply(lambda x: len(x)) # length of descriptions"
      ]
    },
    {
      "cell_type": "code",
      "execution_count": 35,
      "metadata": {
        "colab": {
          "base_uri": "https://localhost:8080/",
          "height": 398
        },
        "id": "S5v6cyv6SewI",
        "outputId": "bb44f4f3-ced3-471f-a8b2-6e3037a58208"
      },
      "outputs": [
        {
          "data": {
            "image/png": "[encoded data removed]",
            "text/plain": [
              "<Figure size 900x400 with 1 Axes>"
            ]
          },
          "metadata": {},
          "output_type": "display_data"
        }
      ],
      "source": [
        "sns.set(style=\"whitegrid\",rc={\"font.size\":13,\"axes.labelsize\":13})\n",
        "plt.figure(figsize=(9, 4))\n",
        "\n",
        "ax = sns.boxplot(x='len', data=boxplot, orient=\"h\", palette=\"Set2\")\n",
        "plt.ylabel('')\n",
        "plt.xlabel('Words')\n",
        "plt.title(\"Distribution of the word frequency\", fontsize=13)\n",
        "plt.tight_layout(h_pad=3)"
      ]
    },
    {
      "cell_type": "markdown",
      "metadata": {
        "id": "rubGvtf9FiMa"
      },
      "source": [
        "We can observe that most description's length range from 75 too 170 but there are few outliers till 340."
      ]
    },
    {
      "cell_type": "code",
      "execution_count": 36,
      "metadata": {
        "id": "pFbEHZP1UJEE"
      },
      "outputs": [],
      "source": [
        "# Utility function for data cleaning, natural language processing concepts\n",
        "\n",
        "def decontract(sentence):\n",
        "    sentence = str(sentence)\n",
        "    sentence = re.sub(r\"won't\", \"will not\", sentence)\n",
        "    sentence = re.sub(r\"can\\'t\", \"can not\", sentence)\n",
        "    sentence = re.sub(r\"n\\'t\", \" not\", sentence)\n",
        "    sentence = re.sub(r\"\\'re\", \" are\", sentence)\n",
        "    sentence = re.sub(r\"\\'s\", \" is\", sentence)\n",
        "    sentence = re.sub(r\"\\'d\", \" would\", sentence)\n",
        "    sentence = re.sub(r\"\\'ll\", \" will\", sentence)\n",
        "    sentence = re.sub(r\"\\'t\", \" not\", sentence)\n",
        "    sentence = re.sub(r\"\\'ve\", \" have\", sentence)\n",
        "    sentence = re.sub(r\"\\'m\", \" am\", sentence)\n",
        "    return sentence\n",
        "\n",
        "def cleanPunc(sentence):\n",
        "    sentence = str(sentence)\n",
        "    cleaned = re.sub(r'[?|!|\\'|\"|#]',r'',sentence)\n",
        "    cleaned = re.sub(r'[.|,|)|(|\\|/]',r' ',cleaned)\n",
        "    cleaned = cleaned.strip()\n",
        "    cleaned = cleaned.replace(\"\\n\",\" \")\n",
        "    return cleaned\n",
        "\n",
        "def keepAlpha(sentence):\n",
        "    sentence = str(sentence)\n",
        "    alpha_sent = \"\"\n",
        "    for word in sentence.split():\n",
        "        alpha_word = re.sub('[^a-z A-Z]+', '', word)\n",
        "        alpha_sent += alpha_word\n",
        "        alpha_sent += \" \"\n",
        "    alpha_sent = alpha_sent.strip()\n",
        "    return alpha_sent\n",
        "\n",
        "def removeStopWords(sentence):\n",
        "    sentence = str(sentence)\n",
        "    global re_stop_words\n",
        "    return re_stop_words.sub(\"\", sentence)\n",
        "\n",
        "stopwords= set(['br', 'the', 'i', 'me', 'my', 'myself', 'we', 'our', 'ours', 'ourselves', 'you', \"you're\", \"you've\",\\\n",
        "            \"you'll\", \"you'd\", 'your', 'yours', 'yourself', 'yourselves', 'he', 'him', 'his', 'himself', \\\n",
        "            'she', \"she's\", 'her', 'hers', 'herself', 'it', \"it's\", 'its', 'itself', 'they', 'them', 'their',\\\n",
        "            'theirs', 'themselves', 'what', 'which', 'who', 'whom', 'this', 'that', \"that'll\", 'these', 'those', \\\n",
        "            'am', 'is', 'are', 'was', 'were', 'be', 'been', 'being', 'have', 'has', 'had', 'having', 'do', 'does', \\\n",
        "            'did', 'doing', 'a', 'an', 'the', 'and', 'but', 'if', 'or', 'because', 'as', 'until', 'while', 'of', \\\n",
        "            'at', 'by', 'for', 'with', 'about', 'against', 'between', 'into', 'through', 'during', 'before', 'after',\\\n",
        "            'above', 'below', 'to', 'from', 'up', 'down', 'in', 'out', 'on', 'off', 'over', 'under', 'again', 'further',\\\n",
        "            'then', 'once', 'here', 'there', 'when', 'where', 'why', 'how', 'all', 'any', 'both', 'each', 'few', 'more',\\\n",
        "            'most', 'other', 'some', 'such', 'only', 'own', 'same', 'so', 'than', 'too', 'very', \\\n",
        "            's', 't', 'can', 'will', 'just', 'don', \"don't\", 'should', \"should've\", 'now', 'd', 'll', 'm', 'o', 're', \\\n",
        "            've', 'y', 'ain', 'aren', \"aren't\", 'couldn', \"couldn't\", 'didn', \"didn't\", 'doesn', \"doesn't\", 'hadn',\\\n",
        "            \"hadn't\", 'hasn', \"hasn't\", 'haven', \"haven't\", 'isn', \"isn't\", 'ma', 'mightn', \"mightn't\", 'mustn',\\\n",
        "            \"mustn't\", 'needn', \"needn't\", 'shan', \"shan't\", 'shouldn', \"shouldn't\", 'wasn', \"wasn't\", 'weren', \"weren't\", \\\n",
        "            'won', \"won't\", 'wouldn', \"wouldn't\"])\n",
        "\n",
        "re_stop_words = re.compile(r\"\\b(\" + \"|\".join(stopwords) + \")\\\\W\", re.I)\n",
        "\n",
        "stemmer = SnowballStemmer(\"english\")\n",
        "def stemming(sentence):\n",
        "    sentence = str(sentence)\n",
        "    stemSentence = \"\"\n",
        "    for word in sentence.split():\n",
        "        stem = stemmer.stem(word)\n",
        "        stemSentence += stem\n",
        "        stemSentence += \" \"\n",
        "    stemSentence = stemSentence.strip()\n",
        "    return stemSentence"
      ]
    },
    {
      "cell_type": "code",
      "execution_count": 37,
      "metadata": {
        "id": "4M0QFvRkUjSh"
      },
      "outputs": [],
      "source": [
        "# Applying data cleaning on description to ignore irrelevant words\n",
        "df2['description'] = df2['description'].str.lower()\n",
        "df2['description'] = df2['description'].apply(decontract)\n",
        "df2['description'] = df2['description'].apply(cleanPunc)\n",
        "df2['description'] = df2['description'].apply(keepAlpha)\n",
        "df2['description'] = df2['description'].apply(removeStopWords)\n",
        "df2['description'] = df2['description'].apply(stemming)"
      ]
    },
    {
      "cell_type": "code",
      "execution_count": 38,
      "metadata": {
        "id": "6XesxkPCVJSk"
      },
      "outputs": [],
      "source": [
        "# Applying data cleaning on product name to ignore irrelevant words\n",
        "df2['name'] = df2['name'].str.lower()\n",
        "df2['name'] = df2['name'].apply(decontract)\n",
        "df2['name'] = df2['name'].apply(cleanPunc)\n",
        "df2['name'] = df2['name'].apply(keepAlpha)\n",
        "df2['name'] = df2['name'].apply(removeStopWords)\n",
        "df2['name'] = df2['name'].apply(stemming)"
      ]
    },
    {
      "cell_type": "code",
      "execution_count": 39,
      "metadata": {
        "colab": {
          "base_uri": "https://localhost:8080/",
          "height": 689
        },
        "id": "7HjGKrr_Yyfv",
        "outputId": "73f9d1cd-5910-4a2e-d107-75a05341fbc5"
      },
      "outputs": [
        {
          "data": {
            "text/html": [
              "<div>\n",
              "<style scoped>\n",
              "    .dataframe tbody tr th:only-of-type {\n",
              "        vertical-align: middle;\n",
              "    }\n",
              "\n",
              "    .dataframe tbody tr th {\n",
              "        vertical-align: top;\n",
              "    }\n",
              "\n",
              "    .dataframe thead th {\n",
              "        text-align: right;\n",
              "    }\n",
              "</style>\n",
              "<table border=\"1\" class=\"dataframe\">\n",
              "  <thead>\n",
              "    <tr style=\"text-align: right;\">\n",
              "      <th></th>\n",
              "      <th>name</th>\n",
              "      <th>description</th>\n",
              "      <th>Connected Home &amp; Housewares</th>\n",
              "      <th>Car Electronics &amp; GPS</th>\n",
              "      <th>Musical Instruments</th>\n",
              "      <th>Toys, Games &amp; Drones</th>\n",
              "      <th>Video Games</th>\n",
              "      <th>Cameras &amp; Camcorders</th>\n",
              "      <th>Computers &amp; Tablets</th>\n",
              "      <th>Appliances</th>\n",
              "      <th>...</th>\n",
              "      <th>HDMI Cables</th>\n",
              "      <th>Language Learning Software</th>\n",
              "      <th>Laptop Bags &amp; Cases</th>\n",
              "      <th>Speaker Cables</th>\n",
              "      <th>Dehydrators</th>\n",
              "      <th>Dash Installation Kits</th>\n",
              "      <th>Deck Harnesses</th>\n",
              "      <th>Universal Camera Bags &amp; Cases</th>\n",
              "      <th>Others</th>\n",
              "      <th>information</th>\n",
              "    </tr>\n",
              "  </thead>\n",
              "  <tbody>\n",
              "    <tr>\n",
              "      <th>0</th>\n",
              "      <td>duracel aaa batteri pack</td>\n",
              "      <td>compat select electron devic aaa size duralock...</td>\n",
              "      <td>1</td>\n",
              "      <td>0</td>\n",
              "      <td>0</td>\n",
              "      <td>0</td>\n",
              "      <td>0</td>\n",
              "      <td>0</td>\n",
              "      <td>0</td>\n",
              "      <td>0</td>\n",
              "      <td>...</td>\n",
              "      <td>0</td>\n",
              "      <td>0</td>\n",
              "      <td>0</td>\n",
              "      <td>0</td>\n",
              "      <td>0</td>\n",
              "      <td>0</td>\n",
              "      <td>0</td>\n",
              "      <td>0</td>\n",
              "      <td>1</td>\n",
              "      <td>duracel aaa batteri pack compat select electro...</td>\n",
              "    </tr>\n",
              "    <tr>\n",
              "      <th>1</th>\n",
              "      <td>duracel aa v coppertop batteri pack</td>\n",
              "      <td>longlast energi duralock power preserv technol...</td>\n",
              "      <td>1</td>\n",
              "      <td>0</td>\n",
              "      <td>0</td>\n",
              "      <td>0</td>\n",
              "      <td>0</td>\n",
              "      <td>0</td>\n",
              "      <td>0</td>\n",
              "      <td>0</td>\n",
              "      <td>...</td>\n",
              "      <td>0</td>\n",
              "      <td>0</td>\n",
              "      <td>0</td>\n",
              "      <td>0</td>\n",
              "      <td>0</td>\n",
              "      <td>0</td>\n",
              "      <td>0</td>\n",
              "      <td>0</td>\n",
              "      <td>1</td>\n",
              "      <td>duracel aa v coppertop batteri pack longlast e...</td>\n",
              "    </tr>\n",
              "    <tr>\n",
              "      <th>2</th>\n",
              "      <td>duracel aa batteri pack</td>\n",
              "      <td>compat select electron devic aa size duralock ...</td>\n",
              "      <td>1</td>\n",
              "      <td>0</td>\n",
              "      <td>0</td>\n",
              "      <td>0</td>\n",
              "      <td>0</td>\n",
              "      <td>0</td>\n",
              "      <td>0</td>\n",
              "      <td>0</td>\n",
              "      <td>...</td>\n",
              "      <td>0</td>\n",
              "      <td>0</td>\n",
              "      <td>0</td>\n",
              "      <td>0</td>\n",
              "      <td>0</td>\n",
              "      <td>0</td>\n",
              "      <td>0</td>\n",
              "      <td>0</td>\n",
              "      <td>1</td>\n",
              "      <td>duracel aa batteri pack compat select electron...</td>\n",
              "    </tr>\n",
              "    <tr>\n",
              "      <th>3</th>\n",
              "      <td>energ max batteri aa pack</td>\n",
              "      <td>pack aa alkalin batteri batteri tester includ</td>\n",
              "      <td>1</td>\n",
              "      <td>0</td>\n",
              "      <td>0</td>\n",
              "      <td>0</td>\n",
              "      <td>0</td>\n",
              "      <td>0</td>\n",
              "      <td>0</td>\n",
              "      <td>0</td>\n",
              "      <td>...</td>\n",
              "      <td>0</td>\n",
              "      <td>0</td>\n",
              "      <td>0</td>\n",
              "      <td>0</td>\n",
              "      <td>0</td>\n",
              "      <td>0</td>\n",
              "      <td>0</td>\n",
              "      <td>0</td>\n",
              "      <td>1</td>\n",
              "      <td>energ max batteri aa pack pack aa alkalin batt...</td>\n",
              "    </tr>\n",
              "    <tr>\n",
              "      <th>4</th>\n",
              "      <td>duracel c batteri pack</td>\n",
              "      <td>compat select electron devic c size duralock p...</td>\n",
              "      <td>1</td>\n",
              "      <td>0</td>\n",
              "      <td>0</td>\n",
              "      <td>0</td>\n",
              "      <td>0</td>\n",
              "      <td>0</td>\n",
              "      <td>0</td>\n",
              "      <td>0</td>\n",
              "      <td>...</td>\n",
              "      <td>0</td>\n",
              "      <td>0</td>\n",
              "      <td>0</td>\n",
              "      <td>0</td>\n",
              "      <td>0</td>\n",
              "      <td>0</td>\n",
              "      <td>0</td>\n",
              "      <td>0</td>\n",
              "      <td>1</td>\n",
              "      <td>duracel c batteri pack compat select electron ...</td>\n",
              "    </tr>\n",
              "  </tbody>\n",
              "</table>\n",
              "<p>5 rows × 139 columns</p>\n",
              "</div>"
            ],
            "text/plain": [
              "                                  name  \\\n",
              "0             duracel aaa batteri pack   \n",
              "1  duracel aa v coppertop batteri pack   \n",
              "2              duracel aa batteri pack   \n",
              "3            energ max batteri aa pack   \n",
              "4               duracel c batteri pack   \n",
              "\n",
              "                                         description  \\\n",
              "0  compat select electron devic aaa size duralock...   \n",
              "1  longlast energi duralock power preserv technol...   \n",
              "2  compat select electron devic aa size duralock ...   \n",
              "3      pack aa alkalin batteri batteri tester includ   \n",
              "4  compat select electron devic c size duralock p...   \n",
              "\n",
              "   Connected Home & Housewares  Car Electronics & GPS  Musical Instruments  \\\n",
              "0                            1                      0                    0   \n",
              "1                            1                      0                    0   \n",
              "2                            1                      0                    0   \n",
              "3                            1                      0                    0   \n",
              "4                            1                      0                    0   \n",
              "\n",
              "   Toys, Games & Drones  Video Games  Cameras & Camcorders  \\\n",
              "0                     0            0                     0   \n",
              "1                     0            0                     0   \n",
              "2                     0            0                     0   \n",
              "3                     0            0                     0   \n",
              "4                     0            0                     0   \n",
              "\n",
              "   Computers & Tablets  Appliances  ...  HDMI Cables  \\\n",
              "0                    0           0  ...            0   \n",
              "1                    0           0  ...            0   \n",
              "2                    0           0  ...            0   \n",
              "3                    0           0  ...            0   \n",
              "4                    0           0  ...            0   \n",
              "\n",
              "   Language Learning Software  Laptop Bags & Cases  Speaker Cables  \\\n",
              "0                           0                    0               0   \n",
              "1                           0                    0               0   \n",
              "2                           0                    0               0   \n",
              "3                           0                    0               0   \n",
              "4                           0                    0               0   \n",
              "\n",
              "   Dehydrators  Dash Installation Kits  Deck Harnesses  \\\n",
              "0            0                       0               0   \n",
              "1            0                       0               0   \n",
              "2            0                       0               0   \n",
              "3            0                       0               0   \n",
              "4            0                       0               0   \n",
              "\n",
              "   Universal Camera Bags & Cases  Others  \\\n",
              "0                              0       1   \n",
              "1                              0       1   \n",
              "2                              0       1   \n",
              "3                              0       1   \n",
              "4                              0       1   \n",
              "\n",
              "                                         information  \n",
              "0  duracel aaa batteri pack compat select electro...  \n",
              "1  duracel aa v coppertop batteri pack longlast e...  \n",
              "2  duracel aa batteri pack compat select electron...  \n",
              "3  energ max batteri aa pack pack aa alkalin batt...  \n",
              "4  duracel c batteri pack compat select electron ...  \n",
              "\n",
              "[5 rows x 139 columns]"
            ]
          },
          "execution_count": 39,
          "metadata": {},
          "output_type": "execute_result"
        }
      ],
      "source": [
        "# creating new column information which is concatenation of product name and description, which stores overall context about any product\n",
        "df2[\"information\"] = df2[\"name\"] +\" \"+ df2[\"description\"]\n",
        "df2.head()"
      ]
    },
    {
      "cell_type": "markdown",
      "metadata": {
        "id": "EfcyEhfkOVbQ"
      },
      "source": [
        "# Deep Learning Based Model\n",
        "\n",
        "Follows the Multi-class classification based model. Due to less time and api constraints i am not using llm based RAG system but it can be better fit to do this task."
      ]
    },
    {
      "cell_type": "code",
      "execution_count": 54,
      "metadata": {},
      "outputs": [],
      "source": [
        "from tensorflow.keras.preprocessing.text import Tokenizer\n",
        "from tensorflow.keras.preprocessing.sequence import pad_sequences\n"
      ]
    },
    {
      "cell_type": "code",
      "execution_count": 55,
      "metadata": {
        "id": "KJMQQodWOpGd"
      },
      "outputs": [],
      "source": [
        "tokenizer = Tokenizer(num_words=5000, lower=True) # lower : boolean. Whether to convert the texts to lowercase. , num_words : the maximum number of words to keep, based on word frequency.\n",
        "tokenizer.fit_on_texts(df2['information']) # encoding words of information to integers, Updates internal vocabulary based on a list of sequences.\n",
        "sequences = tokenizer.texts_to_sequences(df2['information'])\n",
        "x = pad_sequences(sequences, maxlen=500) # provide tagging to make each sequence of length 500"
      ]
    },
    {
      "cell_type": "code",
      "execution_count": 56,
      "metadata": {
        "colab": {
          "base_uri": "https://localhost:8080/"
        },
        "id": "cyGGD2gzPG-E",
        "outputId": "25447834-34e5-4ca2-b948-220725bb0a3d"
      },
      "outputs": [
        {
          "data": {
            "text/plain": [
              "(5000, 500)"
            ]
          },
          "execution_count": 56,
          "metadata": {},
          "output_type": "execute_result"
        }
      ],
      "source": [
        "x.shape"
      ]
    },
    {
      "cell_type": "code",
      "execution_count": 57,
      "metadata": {
        "id": "_1K3OmZlPNhG"
      },
      "outputs": [],
      "source": [
        "# Splitting dataset in train/test set\n",
        "X_train, X_test, y_train, y_test = train_test_split(x, df2[df2.columns[2:-1]],\n",
        "                                                    test_size=0.3,\n",
        "                                                    random_state=0)"
      ]
    },
    {
      "cell_type": "code",
      "execution_count": 58,
      "metadata": {
        "colab": {
          "base_uri": "https://localhost:8080/",
          "height": 206
        },
        "id": "fC-WAE6sO290",
        "outputId": "d792e849-955d-49fc-aae4-25bade6e3e5d"
      },
      "outputs": [
        {
          "data": {
            "text/html": [
              "<div>\n",
              "<style scoped>\n",
              "    .dataframe tbody tr th:only-of-type {\n",
              "        vertical-align: middle;\n",
              "    }\n",
              "\n",
              "    .dataframe tbody tr th {\n",
              "        vertical-align: top;\n",
              "    }\n",
              "\n",
              "    .dataframe thead th {\n",
              "        text-align: right;\n",
              "    }\n",
              "</style>\n",
              "<table border=\"1\" class=\"dataframe\">\n",
              "  <thead>\n",
              "    <tr style=\"text-align: right;\">\n",
              "      <th></th>\n",
              "      <th>category</th>\n",
              "      <th>count</th>\n",
              "      <th>class_weight</th>\n",
              "    </tr>\n",
              "  </thead>\n",
              "  <tbody>\n",
              "    <tr>\n",
              "      <th>0</th>\n",
              "      <td>Others</td>\n",
              "      <td>2232</td>\n",
              "      <td>0.060932</td>\n",
              "    </tr>\n",
              "    <tr>\n",
              "      <th>1</th>\n",
              "      <td>Video Games</td>\n",
              "      <td>1066</td>\n",
              "      <td>0.127580</td>\n",
              "    </tr>\n",
              "    <tr>\n",
              "      <th>2</th>\n",
              "      <td>Pre-Owned Games</td>\n",
              "      <td>899</td>\n",
              "      <td>0.151279</td>\n",
              "    </tr>\n",
              "    <tr>\n",
              "      <th>3</th>\n",
              "      <td>Appliances</td>\n",
              "      <td>850</td>\n",
              "      <td>0.160000</td>\n",
              "    </tr>\n",
              "    <tr>\n",
              "      <th>4</th>\n",
              "      <td>Musical Instruments</td>\n",
              "      <td>497</td>\n",
              "      <td>0.273642</td>\n",
              "    </tr>\n",
              "  </tbody>\n",
              "</table>\n",
              "</div>"
            ],
            "text/plain": [
              "              category  count  class_weight\n",
              "0               Others   2232      0.060932\n",
              "1          Video Games   1066      0.127580\n",
              "2      Pre-Owned Games    899      0.151279\n",
              "3           Appliances    850      0.160000\n",
              "4  Musical Instruments    497      0.273642"
            ]
          },
          "execution_count": 58,
          "metadata": {},
          "output_type": "execute_result"
        }
      ],
      "source": [
        "most_common_cat['class_weight'] = len(most_common_cat) / most_common_cat['count']\n",
        "class_weight = {}\n",
        "most_common_cat.head()"
      ]
    },
    {
      "cell_type": "code",
      "execution_count": 59,
      "metadata": {
        "id": "hu1FXP1VR9AE"
      },
      "outputs": [],
      "source": [
        "num_classes = y_train.shape[1]\n",
        "max_words = len(tokenizer.word_index) + 1\n",
        "maxlen = 500"
      ]
    },
    {
      "cell_type": "code",
      "execution_count": 60,
      "metadata": {
        "colab": {
          "base_uri": "https://localhost:8080/"
        },
        "id": "UNm8v6AwNcDB",
        "outputId": "560bd15c-e373-445e-87bf-a0ce6483a3ba"
      },
      "outputs": [],
      "source": [
        "classes = [col for col in df2.columns]\n",
        "classes = classes[2:-1]\n"
      ]
    },
    {
      "cell_type": "markdown",
      "metadata": {
        "id": "tbst5DXLinre"
      },
      "source": [
        "## Conv Net Model"
      ]
    },
    {
      "cell_type": "code",
      "execution_count": 64,
      "metadata": {
        "colab": {
          "base_uri": "https://localhost:8080/"
        },
        "id": "DPk7ATDhip3b",
        "outputId": "8c2abacc-fb5f-48cc-a7fe-d85124ae5f6e"
      },
      "outputs": [
        {
          "data": {
            "text/html": [
              "<pre style=\"white-space:pre;overflow-x:auto;line-height:normal;font-family:Menlo,'DejaVu Sans Mono',consolas,'Courier New',monospace\"><span style=\"font-weight: bold\">Model: \"functional_1\"</span>\n",
              "</pre>\n"
            ],
            "text/plain": [
              "\u001b[1mModel: \"functional_1\"\u001b[0m\n"
            ]
          },
          "metadata": {},
          "output_type": "display_data"
        },
        {
          "data": {
            "text/html": [
              "<pre style=\"white-space:pre;overflow-x:auto;line-height:normal;font-family:Menlo,'DejaVu Sans Mono',consolas,'Courier New',monospace\">┏━━━━━━━━━━━━━━━━━━━━━━━━━━━━━━━━━┳━━━━━━━━━━━━━━━━━━━━━━━━┳━━━━━━━━━━━━━━━┓\n",
              "┃<span style=\"font-weight: bold\"> Layer (type)                    </span>┃<span style=\"font-weight: bold\"> Output Shape           </span>┃<span style=\"font-weight: bold\">       Param # </span>┃\n",
              "┡━━━━━━━━━━━━━━━━━━━━━━━━━━━━━━━━━╇━━━━━━━━━━━━━━━━━━━━━━━━╇━━━━━━━━━━━━━━━┩\n",
              "│ input_layer_1 (<span style=\"color: #0087ff; text-decoration-color: #0087ff\">InputLayer</span>)      │ (<span style=\"color: #00d7ff; text-decoration-color: #00d7ff\">None</span>, <span style=\"color: #00af00; text-decoration-color: #00af00\">500</span>)            │             <span style=\"color: #00af00; text-decoration-color: #00af00\">0</span> │\n",
              "├─────────────────────────────────┼────────────────────────┼───────────────┤\n",
              "│ embedding_1 (<span style=\"color: #0087ff; text-decoration-color: #0087ff\">Embedding</span>)         │ (<span style=\"color: #00d7ff; text-decoration-color: #00d7ff\">None</span>, <span style=\"color: #00af00; text-decoration-color: #00af00\">500</span>, <span style=\"color: #00af00; text-decoration-color: #00af00\">100</span>)       │       <span style=\"color: #00af00; text-decoration-color: #00af00\">805,200</span> │\n",
              "├─────────────────────────────────┼────────────────────────┼───────────────┤\n",
              "│ dropout (<span style=\"color: #0087ff; text-decoration-color: #0087ff\">Dropout</span>)               │ (<span style=\"color: #00d7ff; text-decoration-color: #00d7ff\">None</span>, <span style=\"color: #00af00; text-decoration-color: #00af00\">500</span>, <span style=\"color: #00af00; text-decoration-color: #00af00\">100</span>)       │             <span style=\"color: #00af00; text-decoration-color: #00af00\">0</span> │\n",
              "├─────────────────────────────────┼────────────────────────┼───────────────┤\n",
              "│ conv1d (<span style=\"color: #0087ff; text-decoration-color: #0087ff\">Conv1D</span>)                 │ (<span style=\"color: #00d7ff; text-decoration-color: #00d7ff\">None</span>, <span style=\"color: #00af00; text-decoration-color: #00af00\">498</span>, <span style=\"color: #00af00; text-decoration-color: #00af00\">100</span>)       │        <span style=\"color: #00af00; text-decoration-color: #00af00\">30,100</span> │\n",
              "├─────────────────────────────────┼────────────────────────┼───────────────┤\n",
              "│ global_max_pooling1d            │ (<span style=\"color: #00d7ff; text-decoration-color: #00d7ff\">None</span>, <span style=\"color: #00af00; text-decoration-color: #00af00\">100</span>)            │             <span style=\"color: #00af00; text-decoration-color: #00af00\">0</span> │\n",
              "│ (<span style=\"color: #0087ff; text-decoration-color: #0087ff\">GlobalMaxPooling1D</span>)            │                        │               │\n",
              "├─────────────────────────────────┼────────────────────────┼───────────────┤\n",
              "│ dropout_1 (<span style=\"color: #0087ff; text-decoration-color: #0087ff\">Dropout</span>)             │ (<span style=\"color: #00d7ff; text-decoration-color: #00d7ff\">None</span>, <span style=\"color: #00af00; text-decoration-color: #00af00\">100</span>)            │             <span style=\"color: #00af00; text-decoration-color: #00af00\">0</span> │\n",
              "├─────────────────────────────────┼────────────────────────┼───────────────┤\n",
              "│ dense (<span style=\"color: #0087ff; text-decoration-color: #0087ff\">Dense</span>)                   │ (<span style=\"color: #00d7ff; text-decoration-color: #00d7ff\">None</span>, <span style=\"color: #00af00; text-decoration-color: #00af00\">136</span>)            │        <span style=\"color: #00af00; text-decoration-color: #00af00\">13,736</span> │\n",
              "├─────────────────────────────────┼────────────────────────┼───────────────┤\n",
              "│ activation (<span style=\"color: #0087ff; text-decoration-color: #0087ff\">Activation</span>)         │ (<span style=\"color: #00d7ff; text-decoration-color: #00d7ff\">None</span>, <span style=\"color: #00af00; text-decoration-color: #00af00\">136</span>)            │             <span style=\"color: #00af00; text-decoration-color: #00af00\">0</span> │\n",
              "└─────────────────────────────────┴────────────────────────┴───────────────┘\n",
              "</pre>\n"
            ],
            "text/plain": [
              "┏━━━━━━━━━━━━━━━━━━━━━━━━━━━━━━━━━┳━━━━━━━━━━━━━━━━━━━━━━━━┳━━━━━━━━━━━━━━━┓\n",
              "┃\u001b[1m \u001b[0m\u001b[1mLayer (type)                   \u001b[0m\u001b[1m \u001b[0m┃\u001b[1m \u001b[0m\u001b[1mOutput Shape          \u001b[0m\u001b[1m \u001b[0m┃\u001b[1m \u001b[0m\u001b[1m      Param #\u001b[0m\u001b[1m \u001b[0m┃\n",
              "┡━━━━━━━━━━━━━━━━━━━━━━━━━━━━━━━━━╇━━━━━━━━━━━━━━━━━━━━━━━━╇━━━━━━━━━━━━━━━┩\n",
              "│ input_layer_1 (\u001b[38;5;33mInputLayer\u001b[0m)      │ (\u001b[38;5;45mNone\u001b[0m, \u001b[38;5;34m500\u001b[0m)            │             \u001b[38;5;34m0\u001b[0m │\n",
              "├─────────────────────────────────┼────────────────────────┼───────────────┤\n",
              "│ embedding_1 (\u001b[38;5;33mEmbedding\u001b[0m)         │ (\u001b[38;5;45mNone\u001b[0m, \u001b[38;5;34m500\u001b[0m, \u001b[38;5;34m100\u001b[0m)       │       \u001b[38;5;34m805,200\u001b[0m │\n",
              "├─────────────────────────────────┼────────────────────────┼───────────────┤\n",
              "│ dropout (\u001b[38;5;33mDropout\u001b[0m)               │ (\u001b[38;5;45mNone\u001b[0m, \u001b[38;5;34m500\u001b[0m, \u001b[38;5;34m100\u001b[0m)       │             \u001b[38;5;34m0\u001b[0m │\n",
              "├─────────────────────────────────┼────────────────────────┼───────────────┤\n",
              "│ conv1d (\u001b[38;5;33mConv1D\u001b[0m)                 │ (\u001b[38;5;45mNone\u001b[0m, \u001b[38;5;34m498\u001b[0m, \u001b[38;5;34m100\u001b[0m)       │        \u001b[38;5;34m30,100\u001b[0m │\n",
              "├─────────────────────────────────┼────────────────────────┼───────────────┤\n",
              "│ global_max_pooling1d            │ (\u001b[38;5;45mNone\u001b[0m, \u001b[38;5;34m100\u001b[0m)            │             \u001b[38;5;34m0\u001b[0m │\n",
              "│ (\u001b[38;5;33mGlobalMaxPooling1D\u001b[0m)            │                        │               │\n",
              "├─────────────────────────────────┼────────────────────────┼───────────────┤\n",
              "│ dropout_1 (\u001b[38;5;33mDropout\u001b[0m)             │ (\u001b[38;5;45mNone\u001b[0m, \u001b[38;5;34m100\u001b[0m)            │             \u001b[38;5;34m0\u001b[0m │\n",
              "├─────────────────────────────────┼────────────────────────┼───────────────┤\n",
              "│ dense (\u001b[38;5;33mDense\u001b[0m)                   │ (\u001b[38;5;45mNone\u001b[0m, \u001b[38;5;34m136\u001b[0m)            │        \u001b[38;5;34m13,736\u001b[0m │\n",
              "├─────────────────────────────────┼────────────────────────┼───────────────┤\n",
              "│ activation (\u001b[38;5;33mActivation\u001b[0m)         │ (\u001b[38;5;45mNone\u001b[0m, \u001b[38;5;34m136\u001b[0m)            │             \u001b[38;5;34m0\u001b[0m │\n",
              "└─────────────────────────────────┴────────────────────────┴───────────────┘\n"
            ]
          },
          "metadata": {},
          "output_type": "display_data"
        },
        {
          "data": {
            "text/html": [
              "<pre style=\"white-space:pre;overflow-x:auto;line-height:normal;font-family:Menlo,'DejaVu Sans Mono',consolas,'Courier New',monospace\"><span style=\"font-weight: bold\"> Total params: </span><span style=\"color: #00af00; text-decoration-color: #00af00\">849,036</span> (3.24 MB)\n",
              "</pre>\n"
            ],
            "text/plain": [
              "\u001b[1m Total params: \u001b[0m\u001b[38;5;34m849,036\u001b[0m (3.24 MB)\n"
            ]
          },
          "metadata": {},
          "output_type": "display_data"
        },
        {
          "data": {
            "text/html": [
              "<pre style=\"white-space:pre;overflow-x:auto;line-height:normal;font-family:Menlo,'DejaVu Sans Mono',consolas,'Courier New',monospace\"><span style=\"font-weight: bold\"> Trainable params: </span><span style=\"color: #00af00; text-decoration-color: #00af00\">849,036</span> (3.24 MB)\n",
              "</pre>\n"
            ],
            "text/plain": [
              "\u001b[1m Trainable params: \u001b[0m\u001b[38;5;34m849,036\u001b[0m (3.24 MB)\n"
            ]
          },
          "metadata": {},
          "output_type": "display_data"
        },
        {
          "data": {
            "text/html": [
              "<pre style=\"white-space:pre;overflow-x:auto;line-height:normal;font-family:Menlo,'DejaVu Sans Mono',consolas,'Courier New',monospace\"><span style=\"font-weight: bold\"> Non-trainable params: </span><span style=\"color: #00af00; text-decoration-color: #00af00\">0</span> (0.00 B)\n",
              "</pre>\n"
            ],
            "text/plain": [
              "\u001b[1m Non-trainable params: \u001b[0m\u001b[38;5;34m0\u001b[0m (0.00 B)\n"
            ]
          },
          "metadata": {},
          "output_type": "display_data"
        }
      ],
      "source": [
        "import tensorflow as tf\n",
        "from tensorflow.keras.layers import Input, Dense, Activation, Embedding, Flatten, GlobalMaxPool1D, Dropout, Conv1D\n",
        "from tensorflow.keras.models import Model\n",
        "from tensorflow.keras.callbacks import ReduceLROnPlateau\n",
        "\n",
        "# Define the input layer\n",
        "inputs = Input(shape=(maxlen,))\n",
        "\n",
        "# Add embedding layer\n",
        "x = Embedding(max_words, 100)(inputs)\n",
        "\n",
        "# Add dropout layer\n",
        "x = Dropout(0.2)(x)\n",
        "\n",
        "# Add convolutional layer\n",
        "x = Conv1D(100, 3, padding='valid', activation='relu', strides=1)(x)\n",
        "\n",
        "# Add global max pooling layer\n",
        "x = GlobalMaxPool1D()(x)\n",
        "\n",
        "# Add another dropout layer\n",
        "x = Dropout(0.2)(x)\n",
        "\n",
        "# Add dense layer\n",
        "x = Dense(num_classes)(x)\n",
        "\n",
        "# Add activation layer\n",
        "outputs = Activation('sigmoid')(x)\n",
        "\n",
        "# Define the model\n",
        "model = Model(inputs=inputs, outputs=outputs)\n",
        "\n",
        "# Compile the model\n",
        "model.compile(optimizer='adam', loss='binary_crossentropy', metrics=[tf.keras.metrics.AUC()])\n",
        "\n",
        "# Define callbacks\n",
        "callbacks = [\n",
        "    ReduceLROnPlateau(),\n",
        "]\n",
        "\n",
        "# Print the model summary\n",
        "model.summary()\n"
      ]
    },
    {
      "cell_type": "code",
      "execution_count": 65,
      "metadata": {
        "colab": {
          "base_uri": "https://localhost:8080/",
          "height": 865
        },
        "id": "Te1eV5FIjgZz",
        "outputId": "64ee26b5-59e0-4bc5-8a4e-60dcade2a9c9"
      },
      "outputs": [
        {
          "name": "stdout",
          "output_type": "stream",
          "text": [
            "You must install pydot (`pip install pydot`) for `plot_model` to work.\n"
          ]
        }
      ],
      "source": [
        "from tensorflow.keras.utils import plot_model\n",
        "plot_model(model, show_shapes=True, show_layer_names=True)"
      ]
    },
    {
      "cell_type": "code",
      "execution_count": 66,
      "metadata": {
        "colab": {
          "base_uri": "https://localhost:8080/"
        },
        "id": "XuVUAHnSi3E6",
        "outputId": "6709a1c0-532e-4192-8b11-42fcae8a0b9b"
      },
      "outputs": [
        {
          "name": "stdout",
          "output_type": "stream",
          "text": [
            "Epoch 1/30\n",
            "\u001b[1m77/77\u001b[0m \u001b[32m━━━━━━━━━━━━━━━━━━━━\u001b[0m\u001b[37m\u001b[0m \u001b[1m23s\u001b[0m 165ms/step - auc: 0.5761 - loss: 0.3873 - val_auc: 0.8128 - val_loss: 0.0964 - learning_rate: 0.0010\n",
            "Epoch 2/30\n",
            "\u001b[1m77/77\u001b[0m \u001b[32m━━━━━━━━━━━━━━━━━━━━\u001b[0m\u001b[37m\u001b[0m \u001b[1m12s\u001b[0m 152ms/step - auc: 0.7904 - loss: 0.0922 - val_auc: 0.8485 - val_loss: 0.0852 - learning_rate: 0.0010\n",
            "Epoch 3/30\n",
            "\u001b[1m77/77\u001b[0m \u001b[32m━━━━━━━━━━━━━━━━━━━━\u001b[0m\u001b[37m\u001b[0m \u001b[1m11s\u001b[0m 136ms/step - auc: 0.8422 - loss: 0.0781 - val_auc: 0.9043 - val_loss: 0.0726 - learning_rate: 0.0010\n",
            "Epoch 4/30\n",
            "\u001b[1m77/77\u001b[0m \u001b[32m━━━━━━━━━━━━━━━━━━━━\u001b[0m\u001b[37m\u001b[0m \u001b[1m13s\u001b[0m 168ms/step - auc: 0.8905 - loss: 0.0665 - val_auc: 0.9353 - val_loss: 0.0645 - learning_rate: 0.0010\n",
            "Epoch 5/30\n",
            "\u001b[1m77/77\u001b[0m \u001b[32m━━━━━━━━━━━━━━━━━━━━\u001b[0m\u001b[37m\u001b[0m \u001b[1m11s\u001b[0m 141ms/step - auc: 0.9270 - loss: 0.0573 - val_auc: 0.9590 - val_loss: 0.0534 - learning_rate: 0.0010\n",
            "Epoch 6/30\n",
            "\u001b[1m77/77\u001b[0m \u001b[32m━━━━━━━━━━━━━━━━━━━━\u001b[0m\u001b[37m\u001b[0m \u001b[1m12s\u001b[0m 151ms/step - auc: 0.9545 - loss: 0.0480 - val_auc: 0.9722 - val_loss: 0.0467 - learning_rate: 0.0010\n",
            "Epoch 7/30\n",
            "\u001b[1m77/77\u001b[0m \u001b[32m━━━━━━━━━━━━━━━━━━━━\u001b[0m\u001b[37m\u001b[0m \u001b[1m12s\u001b[0m 151ms/step - auc: 0.9686 - loss: 0.0418 - val_auc: 0.9802 - val_loss: 0.0410 - learning_rate: 0.0010\n",
            "Epoch 8/30\n",
            "\u001b[1m77/77\u001b[0m \u001b[32m━━━━━━━━━━━━━━━━━━━━\u001b[0m\u001b[37m\u001b[0m \u001b[1m11s\u001b[0m 148ms/step - auc: 0.9803 - loss: 0.0364 - val_auc: 0.9848 - val_loss: 0.0362 - learning_rate: 0.0010\n",
            "Epoch 9/30\n",
            "\u001b[1m77/77\u001b[0m \u001b[32m━━━━━━━━━━━━━━━━━━━━\u001b[0m\u001b[37m\u001b[0m \u001b[1m12s\u001b[0m 154ms/step - auc: 0.9852 - loss: 0.0331 - val_auc: 0.9869 - val_loss: 0.0327 - learning_rate: 0.0010\n",
            "Epoch 10/30\n",
            "\u001b[1m77/77\u001b[0m \u001b[32m━━━━━━━━━━━━━━━━━━━━\u001b[0m\u001b[37m\u001b[0m \u001b[1m12s\u001b[0m 153ms/step - auc: 0.9884 - loss: 0.0290 - val_auc: 0.9891 - val_loss: 0.0298 - learning_rate: 0.0010\n",
            "Epoch 11/30\n",
            "\u001b[1m77/77\u001b[0m \u001b[32m━━━━━━━━━━━━━━━━━━━━\u001b[0m\u001b[37m\u001b[0m \u001b[1m13s\u001b[0m 164ms/step - auc: 0.9919 - loss: 0.0262 - val_auc: 0.9902 - val_loss: 0.0277 - learning_rate: 0.0010\n",
            "Epoch 12/30\n",
            "\u001b[1m77/77\u001b[0m \u001b[32m━━━━━━━━━━━━━━━━━━━━\u001b[0m\u001b[37m\u001b[0m \u001b[1m13s\u001b[0m 168ms/step - auc: 0.9928 - loss: 0.0245 - val_auc: 0.9903 - val_loss: 0.0261 - learning_rate: 0.0010\n",
            "Epoch 13/30\n",
            "\u001b[1m77/77\u001b[0m \u001b[32m━━━━━━━━━━━━━━━━━━━━\u001b[0m\u001b[37m\u001b[0m \u001b[1m16s\u001b[0m 205ms/step - auc: 0.9937 - loss: 0.0221 - val_auc: 0.9907 - val_loss: 0.0246 - learning_rate: 0.0010\n",
            "Epoch 14/30\n",
            "\u001b[1m77/77\u001b[0m \u001b[32m━━━━━━━━━━━━━━━━━━━━\u001b[0m\u001b[37m\u001b[0m \u001b[1m13s\u001b[0m 167ms/step - auc: 0.9950 - loss: 0.0203 - val_auc: 0.9904 - val_loss: 0.0232 - learning_rate: 0.0010\n",
            "Epoch 15/30\n",
            "\u001b[1m77/77\u001b[0m \u001b[32m━━━━━━━━━━━━━━━━━━━━\u001b[0m\u001b[37m\u001b[0m \u001b[1m13s\u001b[0m 167ms/step - auc: 0.9956 - loss: 0.0195 - val_auc: 0.9908 - val_loss: 0.0222 - learning_rate: 0.0010\n",
            "Epoch 16/30\n",
            "\u001b[1m77/77\u001b[0m \u001b[32m━━━━━━━━━━━━━━━━━━━━\u001b[0m\u001b[37m\u001b[0m \u001b[1m24s\u001b[0m 206ms/step - auc: 0.9965 - loss: 0.0178 - val_auc: 0.9909 - val_loss: 0.0213 - learning_rate: 0.0010\n",
            "Epoch 17/30\n",
            "\u001b[1m77/77\u001b[0m \u001b[32m━━━━━━━━━━━━━━━━━━━━\u001b[0m\u001b[37m\u001b[0m \u001b[1m17s\u001b[0m 157ms/step - auc: 0.9969 - loss: 0.0167 - val_auc: 0.9908 - val_loss: 0.0208 - learning_rate: 0.0010\n",
            "Epoch 18/30\n",
            "\u001b[1m77/77\u001b[0m \u001b[32m━━━━━━━━━━━━━━━━━━━━\u001b[0m\u001b[37m\u001b[0m \u001b[1m12s\u001b[0m 157ms/step - auc: 0.9958 - loss: 0.0169 - val_auc: 0.9904 - val_loss: 0.0207 - learning_rate: 0.0010\n",
            "Epoch 19/30\n",
            "\u001b[1m77/77\u001b[0m \u001b[32m━━━━━━━━━━━━━━━━━━━━\u001b[0m\u001b[37m\u001b[0m \u001b[1m11s\u001b[0m 147ms/step - auc: 0.9976 - loss: 0.0149 - val_auc: 0.9902 - val_loss: 0.0202 - learning_rate: 0.0010\n",
            "Epoch 20/30\n",
            "\u001b[1m77/77\u001b[0m \u001b[32m━━━━━━━━━━━━━━━━━━━━\u001b[0m\u001b[37m\u001b[0m \u001b[1m12s\u001b[0m 154ms/step - auc: 0.9978 - loss: 0.0140 - val_auc: 0.9908 - val_loss: 0.0194 - learning_rate: 0.0010\n",
            "Epoch 21/30\n",
            "\u001b[1m77/77\u001b[0m \u001b[32m━━━━━━━━━━━━━━━━━━━━\u001b[0m\u001b[37m\u001b[0m \u001b[1m12s\u001b[0m 157ms/step - auc: 0.9973 - loss: 0.0130 - val_auc: 0.9908 - val_loss: 0.0193 - learning_rate: 0.0010\n",
            "Epoch 22/30\n",
            "\u001b[1m77/77\u001b[0m \u001b[32m━━━━━━━━━━━━━━━━━━━━\u001b[0m\u001b[37m\u001b[0m \u001b[1m11s\u001b[0m 147ms/step - auc: 0.9982 - loss: 0.0128 - val_auc: 0.9899 - val_loss: 0.0186 - learning_rate: 0.0010\n",
            "Epoch 23/30\n",
            "\u001b[1m77/77\u001b[0m \u001b[32m━━━━━━━━━━━━━━━━━━━━\u001b[0m\u001b[37m\u001b[0m \u001b[1m13s\u001b[0m 162ms/step - auc: 0.9988 - loss: 0.0115 - val_auc: 0.9901 - val_loss: 0.0191 - learning_rate: 0.0010\n",
            "Epoch 24/30\n",
            "\u001b[1m77/77\u001b[0m \u001b[32m━━━━━━━━━━━━━━━━━━━━\u001b[0m\u001b[37m\u001b[0m \u001b[1m13s\u001b[0m 164ms/step - auc: 0.9986 - loss: 0.0112 - val_auc: 0.9901 - val_loss: 0.0183 - learning_rate: 0.0010\n",
            "Epoch 25/30\n",
            "\u001b[1m77/77\u001b[0m \u001b[32m━━━━━━━━━━━━━━━━━━━━\u001b[0m\u001b[37m\u001b[0m \u001b[1m12s\u001b[0m 152ms/step - auc: 0.9982 - loss: 0.0113 - val_auc: 0.9892 - val_loss: 0.0181 - learning_rate: 0.0010\n",
            "Epoch 26/30\n",
            "\u001b[1m77/77\u001b[0m \u001b[32m━━━━━━━━━━━━━━━━━━━━\u001b[0m\u001b[37m\u001b[0m \u001b[1m12s\u001b[0m 159ms/step - auc: 0.9987 - loss: 0.0106 - val_auc: 0.9883 - val_loss: 0.0183 - learning_rate: 0.0010\n",
            "Epoch 27/30\n",
            "\u001b[1m77/77\u001b[0m \u001b[32m━━━━━━━━━━━━━━━━━━━━\u001b[0m\u001b[37m\u001b[0m \u001b[1m12s\u001b[0m 155ms/step - auc: 0.9992 - loss: 0.0100 - val_auc: 0.9884 - val_loss: 0.0178 - learning_rate: 0.0010\n",
            "Epoch 28/30\n",
            "\u001b[1m77/77\u001b[0m \u001b[32m━━━━━━━━━━━━━━━━━━━━\u001b[0m\u001b[37m\u001b[0m \u001b[1m12s\u001b[0m 159ms/step - auc: 0.9988 - loss: 0.0106 - val_auc: 0.9880 - val_loss: 0.0179 - learning_rate: 0.0010\n",
            "Epoch 29/30\n",
            "\u001b[1m77/77\u001b[0m \u001b[32m━━━━━━━━━━━━━━━━━━━━\u001b[0m\u001b[37m\u001b[0m \u001b[1m12s\u001b[0m 150ms/step - auc: 0.9991 - loss: 0.0092 - val_auc: 0.9881 - val_loss: 0.0181 - learning_rate: 0.0010\n",
            "Epoch 30/30\n",
            "\u001b[1m77/77\u001b[0m \u001b[32m━━━━━━━━━━━━━━━━━━━━\u001b[0m\u001b[37m\u001b[0m \u001b[1m12s\u001b[0m 153ms/step - auc: 0.9991 - loss: 0.0090 - val_auc: 0.9877 - val_loss: 0.0178 - learning_rate: 0.0010\n"
          ]
        }
      ],
      "source": [
        "history = model.fit(X_train, y_train,\n",
        "                    class_weight=class_weight,\n",
        "                    epochs=30,\n",
        "                    batch_size=32,\n",
        "                    validation_split=0.3,\n",
        "                    callbacks=callbacks)"
      ]
    },
    {
      "cell_type": "code",
      "execution_count": 67,
      "metadata": {
        "id": "m5vfqOfllmvP"
      },
      "outputs": [
        {
          "data": {
            "image/png": "[encoded data removed]",
            "text/plain": [
              "<Figure size 640x480 with 1 Axes>"
            ]
          },
          "metadata": {},
          "output_type": "display_data"
        }
      ],
      "source": [
        "# Plotting losses wrt epochs(time)\n",
        "plt.plot(history.history[\"loss\"], label=\"Training Loss\")\n",
        "plt.plot(history.history[\"val_loss\"], label=\"Validation Loss\")\n",
        "plt.legend()\n",
        "plt.show()"
      ]
    },
    {
      "cell_type": "code",
      "execution_count": 68,
      "metadata": {
        "id": "n13S_ywioF6X"
      },
      "outputs": [
        {
          "name": "stdout",
          "output_type": "stream",
          "text": [
            "\u001b[1m47/47\u001b[0m \u001b[32m━━━━━━━━━━━━━━━━━━━━\u001b[0m\u001b[37m\u001b[0m \u001b[1m2s\u001b[0m 35ms/step - auc: 0.9865 - loss: 0.0184\n",
            "compile_metrics: 0.9860623478889465\n"
          ]
        }
      ],
      "source": [
        "metrics = model.evaluate(X_test, y_test)\n",
        "print(\"{}: {}\".format(model.metrics_names[1], metrics[1]))"
      ]
    },
    {
      "cell_type": "markdown",
      "metadata": {},
      "source": [
        "# Lets Predict some products and their probability of belonging to a category"
      ]
    },
    {
      "cell_type": "code",
      "execution_count": 69,
      "metadata": {
        "id": "Te7w9dbRMeim"
      },
      "outputs": [],
      "source": [
        "import operator\n",
        "# Utility function to get predictions using Neural Net model\n",
        "def predict_top_categories(name,description):\n",
        "  # Data cleaning process\n",
        "  name = name.lower()\n",
        "  name = decontract(name)\n",
        "  name = cleanPunc(name)\n",
        "  name = keepAlpha(name)\n",
        "  name = removeStopWords(name)\n",
        "  name = stemming(name)\n",
        "\n",
        "  description = description.lower()\n",
        "  description = decontract(description)\n",
        "  description = cleanPunc(description)\n",
        "  description = keepAlpha(description)\n",
        "  description = removeStopWords(description)\n",
        "  description = stemming(description)\n",
        "\n",
        "  information = name + description\n",
        "  # necessary data preprocessing steps\n",
        "  sequences = tokenizer.texts_to_sequences([information])\n",
        "  x = pad_sequences(sequences, maxlen=maxlen)\n",
        "  prediction = model.predict(x)\n",
        "  predScores = [score for pred in prediction for score in pred]\n",
        "  predDict = {}\n",
        "  for cla,score in zip(classes,predScores):\n",
        "    predDict[cla] = score\n",
        "\n",
        "  return sorted(predDict.items(), key=operator.itemgetter(1),reverse=True)[:10] # return top 10 results"
      ]
    },
    {
      "cell_type": "code",
      "execution_count": 70,
      "metadata": {
        "id": "a4oGUI38pGGQ"
      },
      "outputs": [
        {
          "name": "stdout",
          "output_type": "stream",
          "text": [
            "\u001b[1m1/1\u001b[0m \u001b[32m━━━━━━━━━━━━━━━━━━━━\u001b[0m\u001b[37m\u001b[0m \u001b[1m0s\u001b[0m 416ms/step\n"
          ]
        },
        {
          "data": {
            "text/plain": [
              "[('Others', 0.60608566),\n",
              " ('Cell Phones', 0.12119913),\n",
              " ('Cell Phone Accessories', 0.06294417),\n",
              " ('Computers & Tablets', 0.008762129),\n",
              " ('Connected Home & Housewares', 0.007893937),\n",
              " ('Toys, Games & Drones', 0.007762395),\n",
              " ('Earbud & In-Ear Headphones', 0.005033926),\n",
              " ('iPhone Accessories', 0.0049523194),\n",
              " ('Audio', 0.0046271086),\n",
              " ('Recording Equipment', 0.00413196)]"
            ]
          },
          "execution_count": 70,
          "metadata": {},
          "output_type": "execute_result"
        }
      ],
      "source": [
        "name = \"Motorola - Moto 360 2nd Generation Men's Smartwatch 42mm Stainless Steel - Gold Stainless Steel\"\n",
        "description = \"Fits most wrist sizesCompatible with most Apple&#174; iOS and Android cell phones22mm stainless steel bandWater-resistant designAt-a-glance notifications\"\n",
        "prediction = predict_top_categories(name,description)\n",
        "prediction"
      ]
    },
    {
      "cell_type": "code",
      "execution_count": 71,
      "metadata": {
        "id": "cFoCwnxbpaKG"
      },
      "outputs": [
        {
          "name": "stdout",
          "output_type": "stream",
          "text": [
            "\u001b[1m1/1\u001b[0m \u001b[32m━━━━━━━━━━━━━━━━━━━━\u001b[0m\u001b[37m\u001b[0m \u001b[1m0s\u001b[0m 71ms/step\n"
          ]
        },
        {
          "data": {
            "text/plain": [
              "[('Others', 0.8158294),\n",
              " ('TV & Home Theater', 0.096726544),\n",
              " ('Computers & Tablets', 0.063408524),\n",
              " ('TV Stands, Mounts & Furniture', 0.027845783),\n",
              " ('TV & Home Theater Accessories', 0.022805234),\n",
              " ('Cell Phones', 0.019029908),\n",
              " ('A/V Cables & Connectors', 0.01758951),\n",
              " ('Computer Accessories & Peripherals', 0.01705585),\n",
              " ('Cell Phone Accessories', 0.008191636),\n",
              " ('Connected Home', 0.007130578)]"
            ]
          },
          "execution_count": 71,
          "metadata": {},
          "output_type": "execute_result"
        }
      ],
      "source": [
        "name = \"Samsung - Galaxy S7 32GB - Black Onyx (Sprint)\"\n",
        "description = \"Qualcomm Snapdragon 820 MSM8996 2.2GHz quad-core processorAndroid 6.0 Marshmallow operating system4G mobile hotspot capability with support for up to 10 devicesWiFi Capable 802.11 a/b/g/n/ac5.1\\\" WQHD touch-screen displayBluetooth 4.2\"\n",
        "prediction = predict_top_categories(name,description)\n",
        "prediction"
      ]
    },
    {
      "cell_type": "code",
      "execution_count": 72,
      "metadata": {
        "id": "4RDUthtGpg9G"
      },
      "outputs": [
        {
          "name": "stdout",
          "output_type": "stream",
          "text": [
            "\u001b[1m1/1\u001b[0m \u001b[32m━━━━━━━━━━━━━━━━━━━━\u001b[0m\u001b[37m\u001b[0m \u001b[1m0s\u001b[0m 96ms/step\n"
          ]
        },
        {
          "data": {
            "text/plain": [
              "[('Housewares', 0.89738274),\n",
              " ('Others', 0.8795102),\n",
              " ('Connected Home & Housewares', 0.83257854),\n",
              " ('Household Batteries', 0.80418193),\n",
              " ('Outdoor Living', 0.18382326),\n",
              " ('Audio', 0.08680001),\n",
              " ('Telephones & Communication', 0.0601549),\n",
              " ('Home Audio', 0.053582843),\n",
              " ('Small Kitchen Appliances', 0.037654232),\n",
              " ('Kitchen Gadgets', 0.024936497)]"
            ]
          },
          "execution_count": 72,
          "metadata": {},
          "output_type": "execute_result"
        }
      ],
      "source": [
        "name = \"Duracell - AAA Batteries (4-Pack)\"\n",
        "description = \"Compatible with select electronic devices; AAA size; DURALOCK Power Preserve technology; 4-pack\"\n",
        "prediction = predict_top_categories(name,description)\n",
        "prediction"
      ]
    },
    {
      "cell_type": "code",
      "execution_count": 73,
      "metadata": {
        "id": "QNOvXEvIpm09"
      },
      "outputs": [
        {
          "name": "stdout",
          "output_type": "stream",
          "text": [
            "\u001b[1m1/1\u001b[0m \u001b[32m━━━━━━━━━━━━━━━━━━━━\u001b[0m\u001b[37m\u001b[0m \u001b[1m0s\u001b[0m 71ms/step\n"
          ]
        },
        {
          "data": {
            "text/plain": [
              "[('Others', 0.89089876),\n",
              " ('Appliances', 0.7287595),\n",
              " ('Computers & Tablets', 0.2364111),\n",
              " ('Ranges, Cooktops & Ovens', 0.10913597),\n",
              " ('Heating, Cooling & Air Quality', 0.10190569),\n",
              " ('Vacuum & Floor Care Accessories', 0.08696171),\n",
              " ('Appliance Parts & Accessories', 0.08687358),\n",
              " ('Xbox 360 Games', 0.06591804),\n",
              " ('Freezers & Ice Makers', 0.06541255),\n",
              " ('Xbox 360', 0.064509585)]"
            ]
          },
          "execution_count": 73,
          "metadata": {},
          "output_type": "execute_result"
        }
      ],
      "source": [
        "name = \"Keurig - Green Mountain Coffee Organic Ethiopia Yirgacheffe K-Cups (16-Pack)\"\n",
        "description = \"Compatible with Keurig single-serve K-Cup and 2.0 coffee brewers; notes of citrus and ginger; 16-pack\"\n",
        "prediction = predict_top_categories(name,description)\n",
        "prediction"
      ]
    },
    {
      "cell_type": "code",
      "execution_count": 74,
      "metadata": {
        "id": "M10u8SjZpskY"
      },
      "outputs": [
        {
          "name": "stdout",
          "output_type": "stream",
          "text": [
            "\u001b[1m1/1\u001b[0m \u001b[32m━━━━━━━━━━━━━━━━━━━━\u001b[0m\u001b[37m\u001b[0m \u001b[1m0s\u001b[0m 79ms/step\n"
          ]
        },
        {
          "data": {
            "text/plain": [
              "[('Video Games', 0.99849683),\n",
              " ('Xbox 360', 0.8110411),\n",
              " ('Xbox 360 Games', 0.71624225),\n",
              " ('Nintendo DS', 0.20598318),\n",
              " ('Nintendo DS Games', 0.16956814),\n",
              " ('Others', 0.08688392),\n",
              " ('Pre-Owned Games', 0.076835215),\n",
              " ('Wii', 0.046199773),\n",
              " ('Appliances', 0.012233684),\n",
              " ('Car Lights & Lighting Accessories', 0.003282895)]"
            ]
          },
          "execution_count": 74,
          "metadata": {},
          "output_type": "execute_result"
        }
      ],
      "source": [
        "name = \"Kung Fu Panda: Showdown of Legendary Legends - Xbox One\"\n",
        "description = \"Jump into an all-out brawl for honor, glory and legend status\"\n",
        "prediction = predict_top_categories(name,description)\n",
        "prediction"
      ]
    },
    {
      "cell_type": "code",
      "execution_count": null,
      "metadata": {
        "id": "dZfYQvlUN1B8"
      },
      "outputs": [],
      "source": []
    }
  ],
  "metadata": {
    "accelerator": "GPU",
    "colab": {
      "provenance": []
    },
    "kernelspec": {
      "display_name": "Python 3",
      "name": "python3"
    },
    "language_info": {
      "codemirror_mode": {
        "name": "ipython",
        "version": 3
      },
      "file_extension": ".py",
      "mimetype": "text/x-python",
      "name": "python",
      "nbconvert_exporter": "python",
      "pygments_lexer": "ipython3",
      "version": "3.12.3"
    }
  },
  "nbformat": 4,
  "nbformat_minor": 0
}
